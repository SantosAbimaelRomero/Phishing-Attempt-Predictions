{
  "nbformat": 4,
  "nbformat_minor": 0,
  "metadata": {
    "colab": {
      "provenance": [],
      "collapsed_sections": [],
      "authorship_tag": "ABX9TyMNFFc1ThJKrFBkpJ/hv6oy",
      "include_colab_link": true
    },
    "kernelspec": {
      "name": "python3",
      "display_name": "Python 3"
    },
    "language_info": {
      "name": "python"
    }
  },
  "cells": [
    {
      "cell_type": "markdown",
      "metadata": {
        "id": "view-in-github",
        "colab_type": "text"
      },
      "source": [
        "<a href=\"https://colab.research.google.com/github/SantosAbimaelRomero/Project-2/blob/main/Project_2.ipynb\" target=\"_parent\"><img src=\"https://colab.research.google.com/assets/colab-badge.svg\" alt=\"Open In Colab\"/></a>"
      ]
    },
    {
      "cell_type": "markdown",
      "source": [
        "# Proposed Dataset 1"
      ],
      "metadata": {
        "id": "8Jerep2WR8AG"
      }
    },
    {
      "cell_type": "markdown",
      "source": [
        "1. Source of data\n",
        "\n",
        "[Kaggle: Web Page Phising Decetion](https://www.kaggle.com/datasets/shashwatwork/web-page-phishing-detection-dataset)\n",
        "\n",
        "2. Brief description of data\n",
        "\n",
        "Contains real and fake urls meant to be used on models to test whether it can detec which is a real url aned which is a fake url\n",
        "\n",
        "3. What is the target?\n",
        "\n",
        "The status column, whether legitimate or phising.\n",
        "\n",
        "4. What does one row represent? (A person?  A business?  An event? A product?)\n",
        "\n",
        "Each row represent a url\n",
        "\n",
        "5. Is this a classification or regression problem?\n",
        "\n",
        "classification problem\n",
        "\n",
        "6. How many features does the data have?\n",
        "\n",
        "87 Features\n",
        "\n",
        "7. How many rows are in the dataset?\n",
        "\n",
        "11430 rows\n",
        "\n",
        "8. What, if any, challenges do you foresee in cleaning, exploring, or modeling \n",
        "with this dataset?\n",
        "\n",
        "Determining useful features, creating and tuning a model to effectively predict whether a url is fake or real. Domain specific knowledge regarding the features used to determine the target."
      ],
      "metadata": {
        "id": "jiF7MA95R62N"
      }
    },
    {
      "cell_type": "markdown",
      "source": [
        "# Proposed Dataset 2"
      ],
      "metadata": {
        "id": "XbuVAQyGR-YF"
      }
    },
    {
      "cell_type": "markdown",
      "source": [
        "1. Source of data\n",
        "\n",
        "[Kaggle: Real or Fake Job Posting](https://www.kaggle.com/datasets/shivamb/real-or-fake-fake-jobposting-prediction)\n",
        "\n",
        "2. Brief description of data:\n",
        "\n",
        "Contains job postings, with various features to help determine if it is real or fake\n",
        "\n",
        "3. What is the target?\n",
        "\n",
        "Determining whether an online job posting is real or fake.\n",
        "\n",
        "4. What does one row represent? (A person?  A business?  An event? A product?)\n",
        "\n",
        "A job posting.\n",
        "\n",
        "5. Is this a classification or regression problem?\n",
        "\n",
        "Classification problem\n",
        "\n",
        "6. How many features does the data have?\n",
        "\n",
        "16 features\n",
        "\n",
        "7. How many rows are in the dataset?\n",
        "\n",
        "17880 rows\n",
        "\n",
        "8. What, if any, challenges do you foresee in cleaning, exploring, or modeling with this dataset?\n",
        "\n",
        "Determining how to predict the target, part of the features are entire sentences which are meant for each word to be iterated through in order to better determine if a job is real or not, so finding a way to do that will be a challenge since we have only learned about dealing with numbers or single word categories."
      ],
      "metadata": {
        "id": "geX3ayxXR53d"
      }
    },
    {
      "cell_type": "code",
      "execution_count": null,
      "metadata": {
        "id": "I5hwSwd0R1lx"
      },
      "outputs": [],
      "source": []
    }
  ]
}