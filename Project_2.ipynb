{
  "nbformat": 4,
  "nbformat_minor": 0,
  "metadata": {
    "colab": {
      "provenance": [],
      "collapsed_sections": [],
      "authorship_tag": "ABX9TyMcgPuZ5WiEQPslzEgQlOzZ",
      "include_colab_link": true
    },
    "kernelspec": {
      "name": "python3",
      "display_name": "Python 3"
    },
    "language_info": {
      "name": "python"
    }
  },
  "cells": [
    {
      "cell_type": "markdown",
      "metadata": {
        "id": "view-in-github",
        "colab_type": "text"
      },
      "source": [
        "<a href=\"https://colab.research.google.com/github/SantosAbimaelRomero/Project-2/blob/main/Project_2.ipynb\" target=\"_parent\"><img src=\"https://colab.research.google.com/assets/colab-badge.svg\" alt=\"Open In Colab\"/></a>"
      ]
    },
    {
      "cell_type": "markdown",
      "source": [
        "# Proposed Dataset 1"
      ],
      "metadata": {
        "id": "8Jerep2WR8AG"
      }
    },
    {
      "cell_type": "markdown",
      "source": [
        "1. Source of data\n",
        "\n",
        "[Kaggle: Web Page Phising Decetion](https://www.kaggle.com/datasets/shashwatwork/web-page-phishing-detection-dataset)\n",
        "\n",
        "2. Brief description of data\n",
        "\n",
        "Contains real and fake urls meant to be used on models to test whether it can detect which is a real url aned which is a fake url\n",
        "\n",
        "3. What is the target?\n",
        "\n",
        "The status column, whether legitimate or phising.\n",
        "\n",
        "4. What does one row represent? (A person?  A business?  An event? A product?)\n",
        "\n",
        "Each row represent a url\n",
        "\n",
        "5. Is this a classification or regression problem?\n",
        "\n",
        "classification problem\n",
        "\n",
        "6. How many features does the data have?\n",
        "\n",
        "87 Features\n",
        "\n",
        "7. How many rows are in the dataset?\n",
        "\n",
        "11430 rows\n",
        "\n",
        "8. What, if any, challenges do you foresee in cleaning, exploring, or modeling \n",
        "with this dataset?\n",
        "\n",
        "Determining useful features, creating and tuning a model to effectively predict whether a url is fake or real. Domain specific knowledge regarding the features used to determine the target.\n",
        "\n",
        "9. Missing Values and Types of Features:\n",
        "\n",
        "For a description of features check pages 6-10, of this pdf.[Phishing PDF](https://arxiv.org/pdf/2010.12847.pdf)"
      ],
      "metadata": {
        "id": "jiF7MA95R62N"
      }
    },
    {
      "cell_type": "code",
      "source": [
        "import pandas as pd\n",
        "df = pd.read_csv('/content/website phising.zip')"
      ],
      "metadata": {
        "id": "YJjBK19s8izz"
      },
      "execution_count": 1,
      "outputs": []
    },
    {
      "cell_type": "code",
      "source": [
        "df.isna().sum().sum()"
      ],
      "metadata": {
        "colab": {
          "base_uri": "https://localhost:8080/"
        },
        "id": "dBqHQoCH9Obn",
        "outputId": "253f1165-eecb-498f-9ed3-02f75510cbb4"
      },
      "execution_count": 3,
      "outputs": [
        {
          "output_type": "execute_result",
          "data": {
            "text/plain": [
              "0"
            ]
          },
          "metadata": {},
          "execution_count": 3
        }
      ]
    },
    {
      "cell_type": "markdown",
      "source": [
        "0 missing values"
      ],
      "metadata": {
        "id": "kkZqtQiD9UVo"
      }
    },
    {
      "cell_type": "markdown",
      "source": [
        "# Proposed Dataset 2"
      ],
      "metadata": {
        "id": "XbuVAQyGR-YF"
      }
    },
    {
      "cell_type": "markdown",
      "source": [
        "1. Source of data\n",
        "\n",
        "[Kaggle: Real or Fake Job Posting](https://www.kaggle.com/datasets/shivamb/real-or-fake-fake-jobposting-prediction)\n",
        "\n",
        "2. Brief description of data:\n",
        "\n",
        "Contains job postings, with various features to help determine if it is real or fake\n",
        "\n",
        "3. What is the target?\n",
        "\n",
        "Determining whether an online job posting is real or fake.\n",
        "\n",
        "4. What does one row represent? (A person?  A business?  An event? A product?)\n",
        "\n",
        "A job posting.\n",
        "\n",
        "5. Is this a classification or regression problem?\n",
        "\n",
        "Classification problem\n",
        "\n",
        "6. How many features does the data have?\n",
        "\n",
        "16 features\n",
        "\n",
        "7. How many rows are in the dataset?\n",
        "\n",
        "17880 rows\n",
        "\n",
        "8. What, if any, challenges do you foresee in cleaning, exploring, or modeling with this dataset?\n",
        "\n",
        "Determining how to predict the target, part of the features are entire sentences which are meant for each word to be iterated through in order to better determine if a job is real or not, so finding a way to do that will be a challenge since we have only learned about dealing with numbers or single word categories."
      ],
      "metadata": {
        "id": "geX3ayxXR53d"
      }
    },
    {
      "cell_type": "markdown",
      "source": [
        "9. Missing values and Types of Features:"
      ],
      "metadata": {
        "id": "yHu0At6QZv8G"
      }
    },
    {
      "cell_type": "code",
      "execution_count": 4,
      "metadata": {
        "id": "I5hwSwd0R1lx",
        "colab": {
          "base_uri": "https://localhost:8080/"
        },
        "outputId": "2f89ab51-4aae-4e7e-ed5b-9c50ecd4493b"
      },
      "outputs": [
        {
          "output_type": "execute_result",
          "data": {
            "text/plain": [
              "job_id                     0\n",
              "title                      0\n",
              "location                 346\n",
              "department             11547\n",
              "salary_range           15012\n",
              "company_profile         3308\n",
              "description                1\n",
              "requirements            2695\n",
              "benefits                7210\n",
              "telecommuting              0\n",
              "has_company_logo           0\n",
              "has_questions              0\n",
              "employment_type         3471\n",
              "required_experience     7050\n",
              "required_education      8105\n",
              "industry                4903\n",
              "function                6455\n",
              "fraudulent                 0\n",
              "dtype: int64"
            ]
          },
          "metadata": {},
          "execution_count": 4
        }
      ],
      "source": [
        "df = pd.read_csv('/content/fake_job_postings.csv')\n",
        "df.isna().sum()"
      ]
    },
    {
      "cell_type": "markdown",
      "source": [
        "A significant portion of the data is missing info."
      ],
      "metadata": {
        "id": "DWHKd9aNlkwa"
      }
    },
    {
      "cell_type": "markdown",
      "source": [
        "- job_id = index\n",
        "- title = job title\n",
        "- location - country, city, state, job location\n",
        "- department - job department\n",
        "- salary_range - the range of the salary for the job\n",
        "- company_profile - A brief company description.\n",
        "- description - The details description of the job ad.\n",
        "- requirements - Enlisted requirements for the job opening.\n",
        "- benefits - Enlisted offered benefits by the employer.\n",
        "- telecommuting - True for telecommuting positions.\n",
        "- has_company_logo - if the company has a logo\n",
        "- has_questions - True if screening questions are present.\n",
        "- employment_type - type of employment\n",
        "- required_experience - experience required for job\n",
        "- required education - education required for job\n",
        "- industry - the industry the job is in.\n",
        "- function - the main business purpose for of the job.\n",
        "- fraudulent - whether job is real or fake"
      ],
      "metadata": {
        "id": "LstguGVTlvaO"
      }
    }
  ]
}