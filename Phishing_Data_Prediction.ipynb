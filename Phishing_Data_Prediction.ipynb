{
  "nbformat": 4,
  "nbformat_minor": 0,
  "metadata": {
    "colab": {
      "provenance": [],
      "toc_visible": true,
      "authorship_tag": "ABX9TyMUofYMRFZTmfyZVOlXjKeR",
      "include_colab_link": true
    },
    "kernelspec": {
      "name": "python3",
      "display_name": "Python 3"
    },
    "language_info": {
      "name": "python"
    }
  },
  "cells": [
    {
      "cell_type": "markdown",
      "metadata": {
        "id": "view-in-github",
        "colab_type": "text"
      },
      "source": [
        "<a href=\"https://colab.research.google.com/github/SantosAbimaelRomero/Project-2/blob/main/Phishing_Data_Prediction.ipynb\" target=\"_parent\"><img src=\"https://colab.research.google.com/assets/colab-badge.svg\" alt=\"Open In Colab\"/></a>"
      ]
    },
    {
      "cell_type": "markdown",
      "source": [
        "# Data"
      ],
      "metadata": {
        "id": "mkxxQvAc4X9i"
      }
    },
    {
      "cell_type": "code",
      "execution_count": 1,
      "metadata": {
        "id": "ih5HOBhl4UoB"
      },
      "outputs": [],
      "source": [
        "import pandas as pd"
      ]
    },
    {
      "cell_type": "code",
      "source": [
        "df = pd.read_csv('/content/dataset_phishing.csv')\n",
        "df.head()"
      ],
      "metadata": {
        "colab": {
          "base_uri": "https://localhost:8080/",
          "height": 334
        },
        "id": "hWjJ4tDZ4aly",
        "outputId": "c11595fe-3aa7-419f-ffa8-8490253fef51"
      },
      "execution_count": 2,
      "outputs": [
        {
          "output_type": "execute_result",
          "data": {
            "text/plain": [
              "                                                 url  length_url  \\\n",
              "0              http://www.crestonwood.com/router.php          37   \n",
              "1  http://shadetreetechnology.com/V4/validation/a...          77   \n",
              "2  https://support-appleld.com.secureupdate.duila...         126   \n",
              "3                                 http://rgipt.ac.in          18   \n",
              "4  http://www.iracing.com/tracks/gateway-motorspo...          55   \n",
              "\n",
              "   length_hostname  ip  nb_dots  nb_hyphens  nb_at  nb_qm  nb_and  nb_or  ...  \\\n",
              "0               19   0        3           0      0      0       0      0  ...   \n",
              "1               23   1        1           0      0      0       0      0  ...   \n",
              "2               50   1        4           1      0      1       2      0  ...   \n",
              "3               11   0        2           0      0      0       0      0  ...   \n",
              "4               15   0        2           2      0      0       0      0  ...   \n",
              "\n",
              "   domain_in_title  domain_with_copyright  whois_registered_domain  \\\n",
              "0                0                      1                        0   \n",
              "1                1                      0                        0   \n",
              "2                1                      0                        0   \n",
              "3                1                      0                        0   \n",
              "4                0                      1                        0   \n",
              "\n",
              "   domain_registration_length  domain_age  web_traffic  dns_record  \\\n",
              "0                          45          -1            0           1   \n",
              "1                          77        5767            0           0   \n",
              "2                          14        4004      5828815           0   \n",
              "3                          62          -1       107721           0   \n",
              "4                         224        8175         8725           0   \n",
              "\n",
              "   google_index  page_rank      status  \n",
              "0             1          4  legitimate  \n",
              "1             1          2    phishing  \n",
              "2             1          0    phishing  \n",
              "3             0          3  legitimate  \n",
              "4             0          6  legitimate  \n",
              "\n",
              "[5 rows x 89 columns]"
            ],
            "text/html": [
              "\n",
              "  <div id=\"df-b8f85f97-19f5-4c48-b4e7-dccc4f2fe332\">\n",
              "    <div class=\"colab-df-container\">\n",
              "      <div>\n",
              "<style scoped>\n",
              "    .dataframe tbody tr th:only-of-type {\n",
              "        vertical-align: middle;\n",
              "    }\n",
              "\n",
              "    .dataframe tbody tr th {\n",
              "        vertical-align: top;\n",
              "    }\n",
              "\n",
              "    .dataframe thead th {\n",
              "        text-align: right;\n",
              "    }\n",
              "</style>\n",
              "<table border=\"1\" class=\"dataframe\">\n",
              "  <thead>\n",
              "    <tr style=\"text-align: right;\">\n",
              "      <th></th>\n",
              "      <th>url</th>\n",
              "      <th>length_url</th>\n",
              "      <th>length_hostname</th>\n",
              "      <th>ip</th>\n",
              "      <th>nb_dots</th>\n",
              "      <th>nb_hyphens</th>\n",
              "      <th>nb_at</th>\n",
              "      <th>nb_qm</th>\n",
              "      <th>nb_and</th>\n",
              "      <th>nb_or</th>\n",
              "      <th>...</th>\n",
              "      <th>domain_in_title</th>\n",
              "      <th>domain_with_copyright</th>\n",
              "      <th>whois_registered_domain</th>\n",
              "      <th>domain_registration_length</th>\n",
              "      <th>domain_age</th>\n",
              "      <th>web_traffic</th>\n",
              "      <th>dns_record</th>\n",
              "      <th>google_index</th>\n",
              "      <th>page_rank</th>\n",
              "      <th>status</th>\n",
              "    </tr>\n",
              "  </thead>\n",
              "  <tbody>\n",
              "    <tr>\n",
              "      <th>0</th>\n",
              "      <td>http://www.crestonwood.com/router.php</td>\n",
              "      <td>37</td>\n",
              "      <td>19</td>\n",
              "      <td>0</td>\n",
              "      <td>3</td>\n",
              "      <td>0</td>\n",
              "      <td>0</td>\n",
              "      <td>0</td>\n",
              "      <td>0</td>\n",
              "      <td>0</td>\n",
              "      <td>...</td>\n",
              "      <td>0</td>\n",
              "      <td>1</td>\n",
              "      <td>0</td>\n",
              "      <td>45</td>\n",
              "      <td>-1</td>\n",
              "      <td>0</td>\n",
              "      <td>1</td>\n",
              "      <td>1</td>\n",
              "      <td>4</td>\n",
              "      <td>legitimate</td>\n",
              "    </tr>\n",
              "    <tr>\n",
              "      <th>1</th>\n",
              "      <td>http://shadetreetechnology.com/V4/validation/a...</td>\n",
              "      <td>77</td>\n",
              "      <td>23</td>\n",
              "      <td>1</td>\n",
              "      <td>1</td>\n",
              "      <td>0</td>\n",
              "      <td>0</td>\n",
              "      <td>0</td>\n",
              "      <td>0</td>\n",
              "      <td>0</td>\n",
              "      <td>...</td>\n",
              "      <td>1</td>\n",
              "      <td>0</td>\n",
              "      <td>0</td>\n",
              "      <td>77</td>\n",
              "      <td>5767</td>\n",
              "      <td>0</td>\n",
              "      <td>0</td>\n",
              "      <td>1</td>\n",
              "      <td>2</td>\n",
              "      <td>phishing</td>\n",
              "    </tr>\n",
              "    <tr>\n",
              "      <th>2</th>\n",
              "      <td>https://support-appleld.com.secureupdate.duila...</td>\n",
              "      <td>126</td>\n",
              "      <td>50</td>\n",
              "      <td>1</td>\n",
              "      <td>4</td>\n",
              "      <td>1</td>\n",
              "      <td>0</td>\n",
              "      <td>1</td>\n",
              "      <td>2</td>\n",
              "      <td>0</td>\n",
              "      <td>...</td>\n",
              "      <td>1</td>\n",
              "      <td>0</td>\n",
              "      <td>0</td>\n",
              "      <td>14</td>\n",
              "      <td>4004</td>\n",
              "      <td>5828815</td>\n",
              "      <td>0</td>\n",
              "      <td>1</td>\n",
              "      <td>0</td>\n",
              "      <td>phishing</td>\n",
              "    </tr>\n",
              "    <tr>\n",
              "      <th>3</th>\n",
              "      <td>http://rgipt.ac.in</td>\n",
              "      <td>18</td>\n",
              "      <td>11</td>\n",
              "      <td>0</td>\n",
              "      <td>2</td>\n",
              "      <td>0</td>\n",
              "      <td>0</td>\n",
              "      <td>0</td>\n",
              "      <td>0</td>\n",
              "      <td>0</td>\n",
              "      <td>...</td>\n",
              "      <td>1</td>\n",
              "      <td>0</td>\n",
              "      <td>0</td>\n",
              "      <td>62</td>\n",
              "      <td>-1</td>\n",
              "      <td>107721</td>\n",
              "      <td>0</td>\n",
              "      <td>0</td>\n",
              "      <td>3</td>\n",
              "      <td>legitimate</td>\n",
              "    </tr>\n",
              "    <tr>\n",
              "      <th>4</th>\n",
              "      <td>http://www.iracing.com/tracks/gateway-motorspo...</td>\n",
              "      <td>55</td>\n",
              "      <td>15</td>\n",
              "      <td>0</td>\n",
              "      <td>2</td>\n",
              "      <td>2</td>\n",
              "      <td>0</td>\n",
              "      <td>0</td>\n",
              "      <td>0</td>\n",
              "      <td>0</td>\n",
              "      <td>...</td>\n",
              "      <td>0</td>\n",
              "      <td>1</td>\n",
              "      <td>0</td>\n",
              "      <td>224</td>\n",
              "      <td>8175</td>\n",
              "      <td>8725</td>\n",
              "      <td>0</td>\n",
              "      <td>0</td>\n",
              "      <td>6</td>\n",
              "      <td>legitimate</td>\n",
              "    </tr>\n",
              "  </tbody>\n",
              "</table>\n",
              "<p>5 rows × 89 columns</p>\n",
              "</div>\n",
              "      <button class=\"colab-df-convert\" onclick=\"convertToInteractive('df-b8f85f97-19f5-4c48-b4e7-dccc4f2fe332')\"\n",
              "              title=\"Convert this dataframe to an interactive table.\"\n",
              "              style=\"display:none;\">\n",
              "        \n",
              "  <svg xmlns=\"http://www.w3.org/2000/svg\" height=\"24px\"viewBox=\"0 0 24 24\"\n",
              "       width=\"24px\">\n",
              "    <path d=\"M0 0h24v24H0V0z\" fill=\"none\"/>\n",
              "    <path d=\"M18.56 5.44l.94 2.06.94-2.06 2.06-.94-2.06-.94-.94-2.06-.94 2.06-2.06.94zm-11 1L8.5 8.5l.94-2.06 2.06-.94-2.06-.94L8.5 2.5l-.94 2.06-2.06.94zm10 10l.94 2.06.94-2.06 2.06-.94-2.06-.94-.94-2.06-.94 2.06-2.06.94z\"/><path d=\"M17.41 7.96l-1.37-1.37c-.4-.4-.92-.59-1.43-.59-.52 0-1.04.2-1.43.59L10.3 9.45l-7.72 7.72c-.78.78-.78 2.05 0 2.83L4 21.41c.39.39.9.59 1.41.59.51 0 1.02-.2 1.41-.59l7.78-7.78 2.81-2.81c.8-.78.8-2.07 0-2.86zM5.41 20L4 18.59l7.72-7.72 1.47 1.35L5.41 20z\"/>\n",
              "  </svg>\n",
              "      </button>\n",
              "      \n",
              "  <style>\n",
              "    .colab-df-container {\n",
              "      display:flex;\n",
              "      flex-wrap:wrap;\n",
              "      gap: 12px;\n",
              "    }\n",
              "\n",
              "    .colab-df-convert {\n",
              "      background-color: #E8F0FE;\n",
              "      border: none;\n",
              "      border-radius: 50%;\n",
              "      cursor: pointer;\n",
              "      display: none;\n",
              "      fill: #1967D2;\n",
              "      height: 32px;\n",
              "      padding: 0 0 0 0;\n",
              "      width: 32px;\n",
              "    }\n",
              "\n",
              "    .colab-df-convert:hover {\n",
              "      background-color: #E2EBFA;\n",
              "      box-shadow: 0px 1px 2px rgba(60, 64, 67, 0.3), 0px 1px 3px 1px rgba(60, 64, 67, 0.15);\n",
              "      fill: #174EA6;\n",
              "    }\n",
              "\n",
              "    [theme=dark] .colab-df-convert {\n",
              "      background-color: #3B4455;\n",
              "      fill: #D2E3FC;\n",
              "    }\n",
              "\n",
              "    [theme=dark] .colab-df-convert:hover {\n",
              "      background-color: #434B5C;\n",
              "      box-shadow: 0px 1px 3px 1px rgba(0, 0, 0, 0.15);\n",
              "      filter: drop-shadow(0px 1px 2px rgba(0, 0, 0, 0.3));\n",
              "      fill: #FFFFFF;\n",
              "    }\n",
              "  </style>\n",
              "\n",
              "      <script>\n",
              "        const buttonEl =\n",
              "          document.querySelector('#df-b8f85f97-19f5-4c48-b4e7-dccc4f2fe332 button.colab-df-convert');\n",
              "        buttonEl.style.display =\n",
              "          google.colab.kernel.accessAllowed ? 'block' : 'none';\n",
              "\n",
              "        async function convertToInteractive(key) {\n",
              "          const element = document.querySelector('#df-b8f85f97-19f5-4c48-b4e7-dccc4f2fe332');\n",
              "          const dataTable =\n",
              "            await google.colab.kernel.invokeFunction('convertToInteractive',\n",
              "                                                     [key], {});\n",
              "          if (!dataTable) return;\n",
              "\n",
              "          const docLinkHtml = 'Like what you see? Visit the ' +\n",
              "            '<a target=\"_blank\" href=https://colab.research.google.com/notebooks/data_table.ipynb>data table notebook</a>'\n",
              "            + ' to learn more about interactive tables.';\n",
              "          element.innerHTML = '';\n",
              "          dataTable['output_type'] = 'display_data';\n",
              "          await google.colab.output.renderOutput(dataTable, element);\n",
              "          const docLink = document.createElement('div');\n",
              "          docLink.innerHTML = docLinkHtml;\n",
              "          element.appendChild(docLink);\n",
              "        }\n",
              "      </script>\n",
              "    </div>\n",
              "  </div>\n",
              "  "
            ]
          },
          "metadata": {},
          "execution_count": 2
        }
      ]
    },
    {
      "cell_type": "code",
      "source": [
        "df.info()"
      ],
      "metadata": {
        "colab": {
          "base_uri": "https://localhost:8080/"
        },
        "id": "n6i32o-15rYh",
        "outputId": "9ca2bf0e-a0c8-4cc7-c1de-8339cf4ccb0a"
      },
      "execution_count": 3,
      "outputs": [
        {
          "output_type": "stream",
          "name": "stdout",
          "text": [
            "<class 'pandas.core.frame.DataFrame'>\n",
            "RangeIndex: 11430 entries, 0 to 11429\n",
            "Data columns (total 89 columns):\n",
            " #   Column                      Non-Null Count  Dtype  \n",
            "---  ------                      --------------  -----  \n",
            " 0   url                         11430 non-null  object \n",
            " 1   length_url                  11430 non-null  int64  \n",
            " 2   length_hostname             11430 non-null  int64  \n",
            " 3   ip                          11430 non-null  int64  \n",
            " 4   nb_dots                     11430 non-null  int64  \n",
            " 5   nb_hyphens                  11430 non-null  int64  \n",
            " 6   nb_at                       11430 non-null  int64  \n",
            " 7   nb_qm                       11430 non-null  int64  \n",
            " 8   nb_and                      11430 non-null  int64  \n",
            " 9   nb_or                       11430 non-null  int64  \n",
            " 10  nb_eq                       11430 non-null  int64  \n",
            " 11  nb_underscore               11430 non-null  int64  \n",
            " 12  nb_tilde                    11430 non-null  int64  \n",
            " 13  nb_percent                  11430 non-null  int64  \n",
            " 14  nb_slash                    11430 non-null  int64  \n",
            " 15  nb_star                     11430 non-null  int64  \n",
            " 16  nb_colon                    11430 non-null  int64  \n",
            " 17  nb_comma                    11430 non-null  int64  \n",
            " 18  nb_semicolumn               11430 non-null  int64  \n",
            " 19  nb_dollar                   11430 non-null  int64  \n",
            " 20  nb_space                    11430 non-null  int64  \n",
            " 21  nb_www                      11430 non-null  int64  \n",
            " 22  nb_com                      11430 non-null  int64  \n",
            " 23  nb_dslash                   11430 non-null  int64  \n",
            " 24  http_in_path                11430 non-null  int64  \n",
            " 25  https_token                 11430 non-null  int64  \n",
            " 26  ratio_digits_url            11430 non-null  float64\n",
            " 27  ratio_digits_host           11430 non-null  float64\n",
            " 28  punycode                    11430 non-null  int64  \n",
            " 29  port                        11430 non-null  int64  \n",
            " 30  tld_in_path                 11430 non-null  int64  \n",
            " 31  tld_in_subdomain            11430 non-null  int64  \n",
            " 32  abnormal_subdomain          11430 non-null  int64  \n",
            " 33  nb_subdomains               11430 non-null  int64  \n",
            " 34  prefix_suffix               11430 non-null  int64  \n",
            " 35  random_domain               11430 non-null  int64  \n",
            " 36  shortening_service          11430 non-null  int64  \n",
            " 37  path_extension              11430 non-null  int64  \n",
            " 38  nb_redirection              11430 non-null  int64  \n",
            " 39  nb_external_redirection     11430 non-null  int64  \n",
            " 40  length_words_raw            11430 non-null  int64  \n",
            " 41  char_repeat                 11430 non-null  int64  \n",
            " 42  shortest_words_raw          11430 non-null  int64  \n",
            " 43  shortest_word_host          11430 non-null  int64  \n",
            " 44  shortest_word_path          11430 non-null  int64  \n",
            " 45  longest_words_raw           11430 non-null  int64  \n",
            " 46  longest_word_host           11430 non-null  int64  \n",
            " 47  longest_word_path           11430 non-null  int64  \n",
            " 48  avg_words_raw               11430 non-null  float64\n",
            " 49  avg_word_host               11430 non-null  float64\n",
            " 50  avg_word_path               11430 non-null  float64\n",
            " 51  phish_hints                 11430 non-null  int64  \n",
            " 52  domain_in_brand             11430 non-null  int64  \n",
            " 53  brand_in_subdomain          11430 non-null  int64  \n",
            " 54  brand_in_path               11430 non-null  int64  \n",
            " 55  suspecious_tld              11430 non-null  int64  \n",
            " 56  statistical_report          11430 non-null  int64  \n",
            " 57  nb_hyperlinks               11430 non-null  int64  \n",
            " 58  ratio_intHyperlinks         11430 non-null  float64\n",
            " 59  ratio_extHyperlinks         11430 non-null  float64\n",
            " 60  ratio_nullHyperlinks        11430 non-null  int64  \n",
            " 61  nb_extCSS                   11430 non-null  int64  \n",
            " 62  ratio_intRedirection        11430 non-null  int64  \n",
            " 63  ratio_extRedirection        11430 non-null  float64\n",
            " 64  ratio_intErrors             11430 non-null  int64  \n",
            " 65  ratio_extErrors             11430 non-null  float64\n",
            " 66  login_form                  11430 non-null  int64  \n",
            " 67  external_favicon            11430 non-null  int64  \n",
            " 68  links_in_tags               11430 non-null  float64\n",
            " 69  submit_email                11430 non-null  int64  \n",
            " 70  ratio_intMedia              11430 non-null  float64\n",
            " 71  ratio_extMedia              11430 non-null  float64\n",
            " 72  sfh                         11430 non-null  int64  \n",
            " 73  iframe                      11430 non-null  int64  \n",
            " 74  popup_window                11430 non-null  int64  \n",
            " 75  safe_anchor                 11430 non-null  float64\n",
            " 76  onmouseover                 11430 non-null  int64  \n",
            " 77  right_clic                  11430 non-null  int64  \n",
            " 78  empty_title                 11430 non-null  int64  \n",
            " 79  domain_in_title             11430 non-null  int64  \n",
            " 80  domain_with_copyright       11430 non-null  int64  \n",
            " 81  whois_registered_domain     11430 non-null  int64  \n",
            " 82  domain_registration_length  11430 non-null  int64  \n",
            " 83  domain_age                  11430 non-null  int64  \n",
            " 84  web_traffic                 11430 non-null  int64  \n",
            " 85  dns_record                  11430 non-null  int64  \n",
            " 86  google_index                11430 non-null  int64  \n",
            " 87  page_rank                   11430 non-null  int64  \n",
            " 88  status                      11430 non-null  object \n",
            "dtypes: float64(13), int64(74), object(2)\n",
            "memory usage: 7.8+ MB\n"
          ]
        }
      ]
    },
    {
      "cell_type": "markdown",
      "source": [
        "# Task"
      ],
      "metadata": {
        "id": "XqiD0_jy4pko"
      }
    },
    {
      "cell_type": "markdown",
      "source": [
        "The goal is to predict the 'status' column and determine whether a URL is either legitimate or phising."
      ],
      "metadata": {
        "id": "vCX8xzom4qnX"
      }
    },
    {
      "cell_type": "markdown",
      "source": [
        "All my features are numerical except for the URL column, all my features describe the url's in terms of total length, the number of letters and numbers, etc. So, I will remove the URL column for my prediction data set as the other columns describe the type of url it is well enough on their own."
      ],
      "metadata": {
        "id": "uGNXzB7X48Kt"
      }
    },
    {
      "cell_type": "code",
      "source": [
        "df1 = df.copy()"
      ],
      "metadata": {
        "id": "apitno8R5wir"
      },
      "execution_count": 4,
      "outputs": []
    },
    {
      "cell_type": "code",
      "source": [
        "df1.drop(columns='url', inplace=True)\n",
        "df1.head()"
      ],
      "metadata": {
        "colab": {
          "base_uri": "https://localhost:8080/",
          "height": 299
        },
        "id": "fy6ODb5R5zqd",
        "outputId": "e1de8322-76db-463e-ba17-7790d00f043b"
      },
      "execution_count": 5,
      "outputs": [
        {
          "output_type": "execute_result",
          "data": {
            "text/plain": [
              "   length_url  length_hostname  ip  nb_dots  nb_hyphens  nb_at  nb_qm  nb_and  \\\n",
              "0          37               19   0        3           0      0      0       0   \n",
              "1          77               23   1        1           0      0      0       0   \n",
              "2         126               50   1        4           1      0      1       2   \n",
              "3          18               11   0        2           0      0      0       0   \n",
              "4          55               15   0        2           2      0      0       0   \n",
              "\n",
              "   nb_or  nb_eq  ...  domain_in_title  domain_with_copyright  \\\n",
              "0      0      0  ...                0                      1   \n",
              "1      0      0  ...                1                      0   \n",
              "2      0      3  ...                1                      0   \n",
              "3      0      0  ...                1                      0   \n",
              "4      0      0  ...                0                      1   \n",
              "\n",
              "   whois_registered_domain  domain_registration_length  domain_age  \\\n",
              "0                        0                          45          -1   \n",
              "1                        0                          77        5767   \n",
              "2                        0                          14        4004   \n",
              "3                        0                          62          -1   \n",
              "4                        0                         224        8175   \n",
              "\n",
              "   web_traffic  dns_record  google_index  page_rank      status  \n",
              "0            0           1             1          4  legitimate  \n",
              "1            0           0             1          2    phishing  \n",
              "2      5828815           0             1          0    phishing  \n",
              "3       107721           0             0          3  legitimate  \n",
              "4         8725           0             0          6  legitimate  \n",
              "\n",
              "[5 rows x 88 columns]"
            ],
            "text/html": [
              "\n",
              "  <div id=\"df-6c5cb789-66cc-49e5-85b1-7f26be59adea\">\n",
              "    <div class=\"colab-df-container\">\n",
              "      <div>\n",
              "<style scoped>\n",
              "    .dataframe tbody tr th:only-of-type {\n",
              "        vertical-align: middle;\n",
              "    }\n",
              "\n",
              "    .dataframe tbody tr th {\n",
              "        vertical-align: top;\n",
              "    }\n",
              "\n",
              "    .dataframe thead th {\n",
              "        text-align: right;\n",
              "    }\n",
              "</style>\n",
              "<table border=\"1\" class=\"dataframe\">\n",
              "  <thead>\n",
              "    <tr style=\"text-align: right;\">\n",
              "      <th></th>\n",
              "      <th>length_url</th>\n",
              "      <th>length_hostname</th>\n",
              "      <th>ip</th>\n",
              "      <th>nb_dots</th>\n",
              "      <th>nb_hyphens</th>\n",
              "      <th>nb_at</th>\n",
              "      <th>nb_qm</th>\n",
              "      <th>nb_and</th>\n",
              "      <th>nb_or</th>\n",
              "      <th>nb_eq</th>\n",
              "      <th>...</th>\n",
              "      <th>domain_in_title</th>\n",
              "      <th>domain_with_copyright</th>\n",
              "      <th>whois_registered_domain</th>\n",
              "      <th>domain_registration_length</th>\n",
              "      <th>domain_age</th>\n",
              "      <th>web_traffic</th>\n",
              "      <th>dns_record</th>\n",
              "      <th>google_index</th>\n",
              "      <th>page_rank</th>\n",
              "      <th>status</th>\n",
              "    </tr>\n",
              "  </thead>\n",
              "  <tbody>\n",
              "    <tr>\n",
              "      <th>0</th>\n",
              "      <td>37</td>\n",
              "      <td>19</td>\n",
              "      <td>0</td>\n",
              "      <td>3</td>\n",
              "      <td>0</td>\n",
              "      <td>0</td>\n",
              "      <td>0</td>\n",
              "      <td>0</td>\n",
              "      <td>0</td>\n",
              "      <td>0</td>\n",
              "      <td>...</td>\n",
              "      <td>0</td>\n",
              "      <td>1</td>\n",
              "      <td>0</td>\n",
              "      <td>45</td>\n",
              "      <td>-1</td>\n",
              "      <td>0</td>\n",
              "      <td>1</td>\n",
              "      <td>1</td>\n",
              "      <td>4</td>\n",
              "      <td>legitimate</td>\n",
              "    </tr>\n",
              "    <tr>\n",
              "      <th>1</th>\n",
              "      <td>77</td>\n",
              "      <td>23</td>\n",
              "      <td>1</td>\n",
              "      <td>1</td>\n",
              "      <td>0</td>\n",
              "      <td>0</td>\n",
              "      <td>0</td>\n",
              "      <td>0</td>\n",
              "      <td>0</td>\n",
              "      <td>0</td>\n",
              "      <td>...</td>\n",
              "      <td>1</td>\n",
              "      <td>0</td>\n",
              "      <td>0</td>\n",
              "      <td>77</td>\n",
              "      <td>5767</td>\n",
              "      <td>0</td>\n",
              "      <td>0</td>\n",
              "      <td>1</td>\n",
              "      <td>2</td>\n",
              "      <td>phishing</td>\n",
              "    </tr>\n",
              "    <tr>\n",
              "      <th>2</th>\n",
              "      <td>126</td>\n",
              "      <td>50</td>\n",
              "      <td>1</td>\n",
              "      <td>4</td>\n",
              "      <td>1</td>\n",
              "      <td>0</td>\n",
              "      <td>1</td>\n",
              "      <td>2</td>\n",
              "      <td>0</td>\n",
              "      <td>3</td>\n",
              "      <td>...</td>\n",
              "      <td>1</td>\n",
              "      <td>0</td>\n",
              "      <td>0</td>\n",
              "      <td>14</td>\n",
              "      <td>4004</td>\n",
              "      <td>5828815</td>\n",
              "      <td>0</td>\n",
              "      <td>1</td>\n",
              "      <td>0</td>\n",
              "      <td>phishing</td>\n",
              "    </tr>\n",
              "    <tr>\n",
              "      <th>3</th>\n",
              "      <td>18</td>\n",
              "      <td>11</td>\n",
              "      <td>0</td>\n",
              "      <td>2</td>\n",
              "      <td>0</td>\n",
              "      <td>0</td>\n",
              "      <td>0</td>\n",
              "      <td>0</td>\n",
              "      <td>0</td>\n",
              "      <td>0</td>\n",
              "      <td>...</td>\n",
              "      <td>1</td>\n",
              "      <td>0</td>\n",
              "      <td>0</td>\n",
              "      <td>62</td>\n",
              "      <td>-1</td>\n",
              "      <td>107721</td>\n",
              "      <td>0</td>\n",
              "      <td>0</td>\n",
              "      <td>3</td>\n",
              "      <td>legitimate</td>\n",
              "    </tr>\n",
              "    <tr>\n",
              "      <th>4</th>\n",
              "      <td>55</td>\n",
              "      <td>15</td>\n",
              "      <td>0</td>\n",
              "      <td>2</td>\n",
              "      <td>2</td>\n",
              "      <td>0</td>\n",
              "      <td>0</td>\n",
              "      <td>0</td>\n",
              "      <td>0</td>\n",
              "      <td>0</td>\n",
              "      <td>...</td>\n",
              "      <td>0</td>\n",
              "      <td>1</td>\n",
              "      <td>0</td>\n",
              "      <td>224</td>\n",
              "      <td>8175</td>\n",
              "      <td>8725</td>\n",
              "      <td>0</td>\n",
              "      <td>0</td>\n",
              "      <td>6</td>\n",
              "      <td>legitimate</td>\n",
              "    </tr>\n",
              "  </tbody>\n",
              "</table>\n",
              "<p>5 rows × 88 columns</p>\n",
              "</div>\n",
              "      <button class=\"colab-df-convert\" onclick=\"convertToInteractive('df-6c5cb789-66cc-49e5-85b1-7f26be59adea')\"\n",
              "              title=\"Convert this dataframe to an interactive table.\"\n",
              "              style=\"display:none;\">\n",
              "        \n",
              "  <svg xmlns=\"http://www.w3.org/2000/svg\" height=\"24px\"viewBox=\"0 0 24 24\"\n",
              "       width=\"24px\">\n",
              "    <path d=\"M0 0h24v24H0V0z\" fill=\"none\"/>\n",
              "    <path d=\"M18.56 5.44l.94 2.06.94-2.06 2.06-.94-2.06-.94-.94-2.06-.94 2.06-2.06.94zm-11 1L8.5 8.5l.94-2.06 2.06-.94-2.06-.94L8.5 2.5l-.94 2.06-2.06.94zm10 10l.94 2.06.94-2.06 2.06-.94-2.06-.94-.94-2.06-.94 2.06-2.06.94z\"/><path d=\"M17.41 7.96l-1.37-1.37c-.4-.4-.92-.59-1.43-.59-.52 0-1.04.2-1.43.59L10.3 9.45l-7.72 7.72c-.78.78-.78 2.05 0 2.83L4 21.41c.39.39.9.59 1.41.59.51 0 1.02-.2 1.41-.59l7.78-7.78 2.81-2.81c.8-.78.8-2.07 0-2.86zM5.41 20L4 18.59l7.72-7.72 1.47 1.35L5.41 20z\"/>\n",
              "  </svg>\n",
              "      </button>\n",
              "      \n",
              "  <style>\n",
              "    .colab-df-container {\n",
              "      display:flex;\n",
              "      flex-wrap:wrap;\n",
              "      gap: 12px;\n",
              "    }\n",
              "\n",
              "    .colab-df-convert {\n",
              "      background-color: #E8F0FE;\n",
              "      border: none;\n",
              "      border-radius: 50%;\n",
              "      cursor: pointer;\n",
              "      display: none;\n",
              "      fill: #1967D2;\n",
              "      height: 32px;\n",
              "      padding: 0 0 0 0;\n",
              "      width: 32px;\n",
              "    }\n",
              "\n",
              "    .colab-df-convert:hover {\n",
              "      background-color: #E2EBFA;\n",
              "      box-shadow: 0px 1px 2px rgba(60, 64, 67, 0.3), 0px 1px 3px 1px rgba(60, 64, 67, 0.15);\n",
              "      fill: #174EA6;\n",
              "    }\n",
              "\n",
              "    [theme=dark] .colab-df-convert {\n",
              "      background-color: #3B4455;\n",
              "      fill: #D2E3FC;\n",
              "    }\n",
              "\n",
              "    [theme=dark] .colab-df-convert:hover {\n",
              "      background-color: #434B5C;\n",
              "      box-shadow: 0px 1px 3px 1px rgba(0, 0, 0, 0.15);\n",
              "      filter: drop-shadow(0px 1px 2px rgba(0, 0, 0, 0.3));\n",
              "      fill: #FFFFFF;\n",
              "    }\n",
              "  </style>\n",
              "\n",
              "      <script>\n",
              "        const buttonEl =\n",
              "          document.querySelector('#df-6c5cb789-66cc-49e5-85b1-7f26be59adea button.colab-df-convert');\n",
              "        buttonEl.style.display =\n",
              "          google.colab.kernel.accessAllowed ? 'block' : 'none';\n",
              "\n",
              "        async function convertToInteractive(key) {\n",
              "          const element = document.querySelector('#df-6c5cb789-66cc-49e5-85b1-7f26be59adea');\n",
              "          const dataTable =\n",
              "            await google.colab.kernel.invokeFunction('convertToInteractive',\n",
              "                                                     [key], {});\n",
              "          if (!dataTable) return;\n",
              "\n",
              "          const docLinkHtml = 'Like what you see? Visit the ' +\n",
              "            '<a target=\"_blank\" href=https://colab.research.google.com/notebooks/data_table.ipynb>data table notebook</a>'\n",
              "            + ' to learn more about interactive tables.';\n",
              "          element.innerHTML = '';\n",
              "          dataTable['output_type'] = 'display_data';\n",
              "          await google.colab.output.renderOutput(dataTable, element);\n",
              "          const docLink = document.createElement('div');\n",
              "          docLink.innerHTML = docLinkHtml;\n",
              "          element.appendChild(docLink);\n",
              "        }\n",
              "      </script>\n",
              "    </div>\n",
              "  </div>\n",
              "  "
            ]
          },
          "metadata": {},
          "execution_count": 5
        }
      ]
    },
    {
      "cell_type": "markdown",
      "source": [
        "# Exploring Data"
      ],
      "metadata": {
        "id": "33SD851e6C-4"
      }
    },
    {
      "cell_type": "code",
      "source": [
        "# Checking for Duplicates\n",
        "df1.duplicated().sum()"
      ],
      "metadata": {
        "colab": {
          "base_uri": "https://localhost:8080/"
        },
        "id": "ihfXkOqY6-LQ",
        "outputId": "42885019-eb53-4149-86e1-d5d51c0b0f8e"
      },
      "execution_count": 6,
      "outputs": [
        {
          "output_type": "execute_result",
          "data": {
            "text/plain": [
              "174"
            ]
          },
          "metadata": {},
          "execution_count": 6
        }
      ]
    },
    {
      "cell_type": "code",
      "source": [
        "df1.drop_duplicates(inplace=True)\n",
        "df1.duplicated().sum()"
      ],
      "metadata": {
        "colab": {
          "base_uri": "https://localhost:8080/"
        },
        "id": "JeOiE-px7D_O",
        "outputId": "d5d6135f-1171-4a91-d197-95c8e7397bea"
      },
      "execution_count": 7,
      "outputs": [
        {
          "output_type": "execute_result",
          "data": {
            "text/plain": [
              "0"
            ]
          },
          "metadata": {},
          "execution_count": 7
        }
      ]
    },
    {
      "cell_type": "code",
      "source": [
        "# Checking for Missing Data\n",
        "# Checking Column Data Types\n",
        "df1.info()"
      ],
      "metadata": {
        "colab": {
          "base_uri": "https://localhost:8080/"
        },
        "id": "dM436Tx87KVU",
        "outputId": "7d0940a4-5026-41b6-eac0-6453b17207d1"
      },
      "execution_count": 8,
      "outputs": [
        {
          "output_type": "stream",
          "name": "stdout",
          "text": [
            "<class 'pandas.core.frame.DataFrame'>\n",
            "Int64Index: 11256 entries, 0 to 11429\n",
            "Data columns (total 88 columns):\n",
            " #   Column                      Non-Null Count  Dtype  \n",
            "---  ------                      --------------  -----  \n",
            " 0   length_url                  11256 non-null  int64  \n",
            " 1   length_hostname             11256 non-null  int64  \n",
            " 2   ip                          11256 non-null  int64  \n",
            " 3   nb_dots                     11256 non-null  int64  \n",
            " 4   nb_hyphens                  11256 non-null  int64  \n",
            " 5   nb_at                       11256 non-null  int64  \n",
            " 6   nb_qm                       11256 non-null  int64  \n",
            " 7   nb_and                      11256 non-null  int64  \n",
            " 8   nb_or                       11256 non-null  int64  \n",
            " 9   nb_eq                       11256 non-null  int64  \n",
            " 10  nb_underscore               11256 non-null  int64  \n",
            " 11  nb_tilde                    11256 non-null  int64  \n",
            " 12  nb_percent                  11256 non-null  int64  \n",
            " 13  nb_slash                    11256 non-null  int64  \n",
            " 14  nb_star                     11256 non-null  int64  \n",
            " 15  nb_colon                    11256 non-null  int64  \n",
            " 16  nb_comma                    11256 non-null  int64  \n",
            " 17  nb_semicolumn               11256 non-null  int64  \n",
            " 18  nb_dollar                   11256 non-null  int64  \n",
            " 19  nb_space                    11256 non-null  int64  \n",
            " 20  nb_www                      11256 non-null  int64  \n",
            " 21  nb_com                      11256 non-null  int64  \n",
            " 22  nb_dslash                   11256 non-null  int64  \n",
            " 23  http_in_path                11256 non-null  int64  \n",
            " 24  https_token                 11256 non-null  int64  \n",
            " 25  ratio_digits_url            11256 non-null  float64\n",
            " 26  ratio_digits_host           11256 non-null  float64\n",
            " 27  punycode                    11256 non-null  int64  \n",
            " 28  port                        11256 non-null  int64  \n",
            " 29  tld_in_path                 11256 non-null  int64  \n",
            " 30  tld_in_subdomain            11256 non-null  int64  \n",
            " 31  abnormal_subdomain          11256 non-null  int64  \n",
            " 32  nb_subdomains               11256 non-null  int64  \n",
            " 33  prefix_suffix               11256 non-null  int64  \n",
            " 34  random_domain               11256 non-null  int64  \n",
            " 35  shortening_service          11256 non-null  int64  \n",
            " 36  path_extension              11256 non-null  int64  \n",
            " 37  nb_redirection              11256 non-null  int64  \n",
            " 38  nb_external_redirection     11256 non-null  int64  \n",
            " 39  length_words_raw            11256 non-null  int64  \n",
            " 40  char_repeat                 11256 non-null  int64  \n",
            " 41  shortest_words_raw          11256 non-null  int64  \n",
            " 42  shortest_word_host          11256 non-null  int64  \n",
            " 43  shortest_word_path          11256 non-null  int64  \n",
            " 44  longest_words_raw           11256 non-null  int64  \n",
            " 45  longest_word_host           11256 non-null  int64  \n",
            " 46  longest_word_path           11256 non-null  int64  \n",
            " 47  avg_words_raw               11256 non-null  float64\n",
            " 48  avg_word_host               11256 non-null  float64\n",
            " 49  avg_word_path               11256 non-null  float64\n",
            " 50  phish_hints                 11256 non-null  int64  \n",
            " 51  domain_in_brand             11256 non-null  int64  \n",
            " 52  brand_in_subdomain          11256 non-null  int64  \n",
            " 53  brand_in_path               11256 non-null  int64  \n",
            " 54  suspecious_tld              11256 non-null  int64  \n",
            " 55  statistical_report          11256 non-null  int64  \n",
            " 56  nb_hyperlinks               11256 non-null  int64  \n",
            " 57  ratio_intHyperlinks         11256 non-null  float64\n",
            " 58  ratio_extHyperlinks         11256 non-null  float64\n",
            " 59  ratio_nullHyperlinks        11256 non-null  int64  \n",
            " 60  nb_extCSS                   11256 non-null  int64  \n",
            " 61  ratio_intRedirection        11256 non-null  int64  \n",
            " 62  ratio_extRedirection        11256 non-null  float64\n",
            " 63  ratio_intErrors             11256 non-null  int64  \n",
            " 64  ratio_extErrors             11256 non-null  float64\n",
            " 65  login_form                  11256 non-null  int64  \n",
            " 66  external_favicon            11256 non-null  int64  \n",
            " 67  links_in_tags               11256 non-null  float64\n",
            " 68  submit_email                11256 non-null  int64  \n",
            " 69  ratio_intMedia              11256 non-null  float64\n",
            " 70  ratio_extMedia              11256 non-null  float64\n",
            " 71  sfh                         11256 non-null  int64  \n",
            " 72  iframe                      11256 non-null  int64  \n",
            " 73  popup_window                11256 non-null  int64  \n",
            " 74  safe_anchor                 11256 non-null  float64\n",
            " 75  onmouseover                 11256 non-null  int64  \n",
            " 76  right_clic                  11256 non-null  int64  \n",
            " 77  empty_title                 11256 non-null  int64  \n",
            " 78  domain_in_title             11256 non-null  int64  \n",
            " 79  domain_with_copyright       11256 non-null  int64  \n",
            " 80  whois_registered_domain     11256 non-null  int64  \n",
            " 81  domain_registration_length  11256 non-null  int64  \n",
            " 82  domain_age                  11256 non-null  int64  \n",
            " 83  web_traffic                 11256 non-null  int64  \n",
            " 84  dns_record                  11256 non-null  int64  \n",
            " 85  google_index                11256 non-null  int64  \n",
            " 86  page_rank                   11256 non-null  int64  \n",
            " 87  status                      11256 non-null  object \n",
            "dtypes: float64(13), int64(74), object(1)\n",
            "memory usage: 7.6+ MB\n"
          ]
        }
      ]
    },
    {
      "cell_type": "markdown",
      "source": [
        "No missing values and all columns are have the correct data types."
      ],
      "metadata": {
        "id": "gKRQ-RGL-lYJ"
      }
    },
    {
      "cell_type": "markdown",
      "source": [
        "# Preprocessing"
      ],
      "metadata": {
        "id": "pqo1yRGv-jJH"
      }
    },
    {
      "cell_type": "markdown",
      "source": [
        "All my features are numerical, the only thing I need is to do is make a pipeline when instantiating my prediction models and add a `StandardScaler()`"
      ],
      "metadata": {
        "id": "BxN8f0V5_1ih"
      }
    },
    {
      "cell_type": "code",
      "source": [
        "from sklearn.preprocessing import StandardScaler\n",
        "from sklearn.pipeline import make_pipeline\n",
        "from sklearn.model_selection import train_test_split"
      ],
      "metadata": {
        "id": "RvEBCC-f-p-m"
      },
      "execution_count": 9,
      "outputs": []
    },
    {
      "cell_type": "markdown",
      "source": [
        "## Ordinal Encoding"
      ],
      "metadata": {
        "id": "ZA6EL2aX_Mpo"
      }
    },
    {
      "cell_type": "markdown",
      "source": [
        "My only object column is the 'status' column.\n",
        "\n",
        "I will set legitimate to 0 and phishing to 1."
      ],
      "metadata": {
        "id": "3l1ZPHEu_Pwm"
      }
    },
    {
      "cell_type": "code",
      "source": [
        "df1['status'].value_counts()"
      ],
      "metadata": {
        "colab": {
          "base_uri": "https://localhost:8080/"
        },
        "id": "Hz_pp9J8_pCV",
        "outputId": "0f7b4d0b-f4b0-4b33-9c57-66cf419a100c"
      },
      "execution_count": 10,
      "outputs": [
        {
          "output_type": "execute_result",
          "data": {
            "text/plain": [
              "legitimate    5715\n",
              "phishing      5541\n",
              "Name: status, dtype: int64"
            ]
          },
          "metadata": {},
          "execution_count": 10
        }
      ]
    },
    {
      "cell_type": "code",
      "source": [
        "df1['status'].replace({'legitimate':0, 'phishing':1}, inplace=True)\n",
        "df1['status'].value_counts()"
      ],
      "metadata": {
        "colab": {
          "base_uri": "https://localhost:8080/"
        },
        "id": "atxZJq7T_PZm",
        "outputId": "fd008002-6dbe-496e-97c4-68f615dda7ee"
      },
      "execution_count": 11,
      "outputs": [
        {
          "output_type": "execute_result",
          "data": {
            "text/plain": [
              "0    5715\n",
              "1    5541\n",
              "Name: status, dtype: int64"
            ]
          },
          "metadata": {},
          "execution_count": 11
        }
      ]
    },
    {
      "cell_type": "markdown",
      "source": [
        "## Validation Split"
      ],
      "metadata": {
        "id": "iNVbf4QlFWpB"
      }
    },
    {
      "cell_type": "code",
      "source": [
        "X = df1.drop(columns='status')\n",
        "y = df1['status']\n",
        "\n",
        "X_train, X_test, y_train, y_test = train_test_split(X, y, random_state=42)"
      ],
      "metadata": {
        "id": "1Y98ysaWFYpr"
      },
      "execution_count": 12,
      "outputs": []
    },
    {
      "cell_type": "markdown",
      "source": [
        "# Prediction Models"
      ],
      "metadata": {
        "id": "BKWKoKSKAoad"
      }
    },
    {
      "cell_type": "markdown",
      "source": [
        "Prediction Models / Tuner / Validation Split"
      ],
      "metadata": {
        "id": "MVTD1xA5COZZ"
      }
    },
    {
      "cell_type": "code",
      "source": [
        "from sklearn.model_selection import GridSearchCV\n",
        "from sklearn.ensemble import RandomForestClassifier\n",
        "from sklearn.neighbors import KNeighborsClassifier\n",
        "from sklearn.linear_model import LogisticRegression"
      ],
      "metadata": {
        "id": "jXPk1pRDAxtw"
      },
      "execution_count": 13,
      "outputs": []
    },
    {
      "cell_type": "markdown",
      "source": [
        "Evaluation Metrics"
      ],
      "metadata": {
        "id": "FvcGOgaDCSQy"
      }
    },
    {
      "cell_type": "code",
      "source": [
        "from sklearn.metrics import (classification_report, ConfusionMatrixDisplay,\n",
        "                             RocCurveDisplay)\n",
        "import matplotlib.pyplot as plt"
      ],
      "metadata": {
        "id": "o10XN5OUBv-g"
      },
      "execution_count": 14,
      "outputs": []
    },
    {
      "cell_type": "markdown",
      "source": [
        "## Functions"
      ],
      "metadata": {
        "id": "6rFfwB83Culu"
      }
    },
    {
      "cell_type": "code",
      "source": [
        "# Evaluation Function\n",
        "labels = ['Legitimate', 'Phishing']\n",
        "def eval(pipe, X, y, pred, label):\n",
        "    print(f\"\"\"++--------------------------++\n",
        "Classification Report: {label}\n",
        "++--------------------------++\n",
        "\"\"\")\n",
        "    \n",
        "    print(classification_report(y, pred, target_names=labels))\n",
        "\n",
        "    fig, axes = plt.subplots(1, 2, figsize=(10,5))\n",
        "\n",
        "    ConfusionMatrixDisplay.from_predictions(y, pred,\n",
        "    normalize='true', cmap='Reds', ax=axes[0])\n",
        "\n",
        "    RocCurveDisplay.from_estimator(pipe, X, y, ax=axes[1])\n",
        "    plt.show()"
      ],
      "metadata": {
        "id": "RSktLbInCv0n"
      },
      "execution_count": 15,
      "outputs": []
    },
    {
      "cell_type": "markdown",
      "source": [
        "## Default Models"
      ],
      "metadata": {
        "id": "4GULSfdEE1LI"
      }
    },
    {
      "cell_type": "markdown",
      "source": [
        "### KNN"
      ],
      "metadata": {
        "id": "MvBc4zq9E28l"
      }
    },
    {
      "cell_type": "code",
      "source": [
        "# Model\n",
        "knn = KNeighborsClassifier()\n",
        "# Pipeline\n",
        "knn_pipe = make_pipeline(StandardScaler(), knn)"
      ],
      "metadata": {
        "id": "Etrn3mHnE5BR"
      },
      "execution_count": null,
      "outputs": []
    },
    {
      "cell_type": "code",
      "source": [
        "%%time\n",
        "# Fit model\n",
        "knn_pipe.fit(X_train, y_train)"
      ],
      "metadata": {
        "colab": {
          "base_uri": "https://localhost:8080/"
        },
        "id": "N5XRkTJMFPB6",
        "outputId": "3788af97-58d4-436a-f50a-ebe7b868e03c"
      },
      "execution_count": 17,
      "outputs": [
        {
          "output_type": "stream",
          "name": "stdout",
          "text": [
            "CPU times: user 20.5 ms, sys: 6.92 ms, total: 27.4 ms\n",
            "Wall time: 29.9 ms\n"
          ]
        },
        {
          "output_type": "execute_result",
          "data": {
            "text/plain": [
              "Pipeline(steps=[('standardscaler', StandardScaler()),\n",
              "                ('kneighborsclassifier', KNeighborsClassifier())])"
            ]
          },
          "metadata": {},
          "execution_count": 17
        }
      ]
    },
    {
      "cell_type": "code",
      "source": [
        "%%time\n",
        "# Predictions\n",
        "knn_train = knn_pipe.predict(X_train)\n",
        "knn_test = knn_pipe.predict(X_test)"
      ],
      "metadata": {
        "colab": {
          "base_uri": "https://localhost:8080/"
        },
        "id": "-QxoZSFNFuul",
        "outputId": "e66386ce-7039-4a9e-bd58-f16c7b2c4bf2"
      },
      "execution_count": 18,
      "outputs": [
        {
          "output_type": "stream",
          "name": "stdout",
          "text": [
            "CPU times: user 2.96 s, sys: 511 ms, total: 3.47 s\n",
            "Wall time: 2.72 s\n"
          ]
        }
      ]
    },
    {
      "cell_type": "code",
      "source": [
        "# Evaluation\n",
        "eval(knn_pipe, X_train, y_train, knn_train, 'Train Data')\n",
        "eval(knn_pipe, X_test, y_test, knn_test, 'Test Data')"
      ],
      "metadata": {
        "colab": {
          "base_uri": "https://localhost:8080/",
          "height": 1000
        },
        "id": "tWkXeSI5F4kj",
        "outputId": "933e940e-0af8-4bcb-e6c5-71d23af41722"
      },
      "execution_count": 19,
      "outputs": [
        {
          "output_type": "stream",
          "name": "stdout",
          "text": [
            "++--------------------------++\n",
            "Classification Report: Train Data\n",
            "++--------------------------++\n",
            "\n",
            "              precision    recall  f1-score   support\n",
            "\n",
            "  Legitimate       0.95      0.96      0.96      4237\n",
            "    Phishing       0.96      0.94      0.95      4205\n",
            "\n",
            "    accuracy                           0.95      8442\n",
            "   macro avg       0.95      0.95      0.95      8442\n",
            "weighted avg       0.95      0.95      0.95      8442\n",
            "\n"
          ]
        },
        {
          "output_type": "display_data",
          "data": {
            "text/plain": [
              "<Figure size 720x360 with 3 Axes>"
            ],
            "image/png": "[encoded data removed]"
          },
          "metadata": {
            "needs_background": "light"
          }
        },
        {
          "output_type": "stream",
          "name": "stdout",
          "text": [
            "++--------------------------++\n",
            "Classification Report: Test Data\n",
            "++--------------------------++\n",
            "\n",
            "              precision    recall  f1-score   support\n",
            "\n",
            "  Legitimate       0.93      0.95      0.94      1478\n",
            "    Phishing       0.95      0.92      0.93      1336\n",
            "\n",
            "    accuracy                           0.94      2814\n",
            "   macro avg       0.94      0.94      0.94      2814\n",
            "weighted avg       0.94      0.94      0.94      2814\n",
            "\n"
          ]
        },
        {
          "output_type": "display_data",
          "data": {
            "text/plain": [
              "<Figure size 720x360 with 3 Axes>"
            ],
            "image/png": "[encoded data removed]"
          },
          "metadata": {
            "needs_background": "light"
          }
        }
      ]
    },
    {
      "cell_type": "markdown",
      "source": [
        "### Logistic Regression"
      ],
      "metadata": {
        "id": "ZBhFEbe3Gc5Y"
      }
    },
    {
      "cell_type": "code",
      "source": [
        "# Model\n",
        "lr = LogisticRegression(max_iter=1000, random_state=42)\n",
        "# Pipeline\n",
        "lr_pipe = make_pipeline(StandardScaler(), lr)"
      ],
      "metadata": {
        "id": "Rbw6e9pfGex1"
      },
      "execution_count": 20,
      "outputs": []
    },
    {
      "cell_type": "code",
      "source": [
        "%%time\n",
        "# Fit\n",
        "lr_pipe.fit(X_train, y_train)"
      ],
      "metadata": {
        "colab": {
          "base_uri": "https://localhost:8080/"
        },
        "id": "TqmJszrxGuvq",
        "outputId": "5a6fdce4-f38e-4efa-c924-56eec3663231"
      },
      "execution_count": 21,
      "outputs": [
        {
          "output_type": "stream",
          "name": "stdout",
          "text": [
            "CPU times: user 599 ms, sys: 364 ms, total: 963 ms\n",
            "Wall time: 1.02 s\n"
          ]
        },
        {
          "output_type": "execute_result",
          "data": {
            "text/plain": [
              "Pipeline(steps=[('standardscaler', StandardScaler()),\n",
              "                ('logisticregression',\n",
              "                 LogisticRegression(max_iter=1000, random_state=42))])"
            ]
          },
          "metadata": {},
          "execution_count": 21
        }
      ]
    },
    {
      "cell_type": "code",
      "source": [
        "%%time\n",
        "# Prediction\n",
        "lr_train = lr_pipe.predict(X_train)\n",
        "lr_test = lr_pipe.predict(X_test)"
      ],
      "metadata": {
        "colab": {
          "base_uri": "https://localhost:8080/"
        },
        "id": "ChD5xIPpHGCV",
        "outputId": "e40a7e03-c9f6-484e-eec0-2900b71d2a93"
      },
      "execution_count": 22,
      "outputs": [
        {
          "output_type": "stream",
          "name": "stdout",
          "text": [
            "CPU times: user 33.8 ms, sys: 14.8 ms, total: 48.6 ms\n",
            "Wall time: 55.6 ms\n"
          ]
        }
      ]
    },
    {
      "cell_type": "code",
      "source": [
        "# Evaluation\n",
        "eval(lr_pipe, X_train, y_train, lr_train, 'Train Data')\n",
        "eval(lr_pipe, X_test, y_test, lr_test, 'Test Data')"
      ],
      "metadata": {
        "colab": {
          "base_uri": "https://localhost:8080/",
          "height": 1000
        },
        "id": "hDYvvbybHPwt",
        "outputId": "2c484d39-63f5-47ed-f78b-11e20e38a50c"
      },
      "execution_count": 23,
      "outputs": [
        {
          "output_type": "stream",
          "name": "stdout",
          "text": [
            "++--------------------------++\n",
            "Classification Report: Train Data\n",
            "++--------------------------++\n",
            "\n",
            "              precision    recall  f1-score   support\n",
            "\n",
            "  Legitimate       0.95      0.95      0.95      4237\n",
            "    Phishing       0.95      0.95      0.95      4205\n",
            "\n",
            "    accuracy                           0.95      8442\n",
            "   macro avg       0.95      0.95      0.95      8442\n",
            "weighted avg       0.95      0.95      0.95      8442\n",
            "\n"
          ]
        },
        {
          "output_type": "display_data",
          "data": {
            "text/plain": [
              "<Figure size 720x360 with 3 Axes>"
            ],
            "image/png": "[encoded data removed]"
          },
          "metadata": {
            "needs_background": "light"
          }
        },
        {
          "output_type": "stream",
          "name": "stdout",
          "text": [
            "++--------------------------++\n",
            "Classification Report: Test Data\n",
            "++--------------------------++\n",
            "\n",
            "              precision    recall  f1-score   support\n",
            "\n",
            "  Legitimate       0.94      0.95      0.94      1478\n",
            "    Phishing       0.94      0.93      0.94      1336\n",
            "\n",
            "    accuracy                           0.94      2814\n",
            "   macro avg       0.94      0.94      0.94      2814\n",
            "weighted avg       0.94      0.94      0.94      2814\n",
            "\n"
          ]
        },
        {
          "output_type": "display_data",
          "data": {
            "text/plain": [
              "<Figure size 720x360 with 3 Axes>"
            ],
            "image/png": "[encoded data removed]"
          },
          "metadata": {
            "needs_background": "light"
          }
        }
      ]
    },
    {
      "cell_type": "markdown",
      "source": [
        "### RandomForest"
      ],
      "metadata": {
        "id": "W0MQVdRLHot0"
      }
    },
    {
      "cell_type": "code",
      "source": [
        "# Model\n",
        "rf = RandomForestClassifier(random_state=42)\n",
        "# Pipeline\n",
        "rf_pipe = make_pipeline(StandardScaler(), rf)"
      ],
      "metadata": {
        "id": "KIvr_tCZHsqZ"
      },
      "execution_count": 24,
      "outputs": []
    },
    {
      "cell_type": "code",
      "source": [
        "%%time\n",
        "# Fit\n",
        "rf_pipe.fit(X_train, y_train)"
      ],
      "metadata": {
        "colab": {
          "base_uri": "https://localhost:8080/"
        },
        "id": "FtDtq6twH2mF",
        "outputId": "6765dc28-f203-4178-8114-087dd2a03786"
      },
      "execution_count": 25,
      "outputs": [
        {
          "output_type": "stream",
          "name": "stdout",
          "text": [
            "CPU times: user 2.25 s, sys: 24.5 ms, total: 2.28 s\n",
            "Wall time: 3.24 s\n"
          ]
        },
        {
          "output_type": "execute_result",
          "data": {
            "text/plain": [
              "Pipeline(steps=[('standardscaler', StandardScaler()),\n",
              "                ('randomforestclassifier',\n",
              "                 RandomForestClassifier(random_state=42))])"
            ]
          },
          "metadata": {},
          "execution_count": 25
        }
      ]
    },
    {
      "cell_type": "code",
      "source": [
        "%%time\n",
        "# Predictions\n",
        "rf_test = rf_pipe.predict(X_test)\n",
        "rf_train = rf_pipe.predict(X_train)"
      ],
      "metadata": {
        "colab": {
          "base_uri": "https://localhost:8080/"
        },
        "id": "JAUVwip1H6xs",
        "outputId": "212dd543-baae-45eb-ff16-a7e84484b5d1"
      },
      "execution_count": 26,
      "outputs": [
        {
          "output_type": "stream",
          "name": "stdout",
          "text": [
            "CPU times: user 366 ms, sys: 5.84 ms, total: 372 ms\n",
            "Wall time: 475 ms\n"
          ]
        }
      ]
    },
    {
      "cell_type": "code",
      "source": [
        "# Evaluations\n",
        "eval(rf_pipe, X_train, y_train, rf_train, 'Train Data')\n",
        "eval(rf_pipe, X_test, y_test, rf_test, 'Test Data')"
      ],
      "metadata": {
        "colab": {
          "base_uri": "https://localhost:8080/",
          "height": 1000
        },
        "id": "aUDL3RkQIMDQ",
        "outputId": "456cb1b2-b09c-4360-b51c-9cc99a52e122"
      },
      "execution_count": 27,
      "outputs": [
        {
          "output_type": "stream",
          "name": "stdout",
          "text": [
            "++--------------------------++\n",
            "Classification Report: Train Data\n",
            "++--------------------------++\n",
            "\n",
            "              precision    recall  f1-score   support\n",
            "\n",
            "  Legitimate       1.00      1.00      1.00      4237\n",
            "    Phishing       1.00      1.00      1.00      4205\n",
            "\n",
            "    accuracy                           1.00      8442\n",
            "   macro avg       1.00      1.00      1.00      8442\n",
            "weighted avg       1.00      1.00      1.00      8442\n",
            "\n"
          ]
        },
        {
          "output_type": "display_data",
          "data": {
            "text/plain": [
              "<Figure size 720x360 with 3 Axes>"
            ],
            "image/png": "[encoded data removed]"
          },
          "metadata": {
            "needs_background": "light"
          }
        },
        {
          "output_type": "stream",
          "name": "stdout",
          "text": [
            "++--------------------------++\n",
            "Classification Report: Test Data\n",
            "++--------------------------++\n",
            "\n",
            "              precision    recall  f1-score   support\n",
            "\n",
            "  Legitimate       0.97      0.96      0.97      1478\n",
            "    Phishing       0.96      0.96      0.96      1336\n",
            "\n",
            "    accuracy                           0.96      2814\n",
            "   macro avg       0.96      0.96      0.96      2814\n",
            "weighted avg       0.96      0.96      0.96      2814\n",
            "\n"
          ]
        },
        {
          "output_type": "display_data",
          "data": {
            "text/plain": [
              "<Figure size 720x360 with 3 Axes>"
            ],
            "image/png": "[encoded data removed]"
          },
          "metadata": {
            "needs_background": "light"
          }
        }
      ]
    },
    {
      "cell_type": "markdown",
      "source": [
        "### Conclusion"
      ],
      "metadata": {
        "id": "f3oWAipHIv3G"
      }
    },
    {
      "cell_type": "markdown",
      "source": [
        "Looking at the results for the three models:\n",
        "- RandomForest has the best ROC curve with a AUC of 0.99\n",
        "- RandomForest has the highest overall accuracy with 96% on the test data and a perfect 100% on the train data based on the classification report\n",
        "- RandomForest has the highest rate of correct predictions with a 96% for both true negatives and true positives on the test data and a perfect 100% true negatives and true positives on the train data based on the Confusion Matrix.\n",
        "- LogisticRegression has the fastest prediction time at 48.6 milliseconds total, RandomForest came 2nd at 372 millieseconds total and KNN was the slowest at 3.47 seconds.\n",
        "- KNN has the fastest fit time at 27.4 milliseconds total, LogisticRegression came 2nd at 963 milliseconds, RandomForest being the slowest at 2.28 seconds."
      ],
      "metadata": {
        "id": "fPJOrw67Ixeu"
      }
    },
    {
      "cell_type": "markdown",
      "source": [
        "I have decided to move forward with the RandomForest model, I will tune the parameters and try to find ways to improve it further if possible."
      ],
      "metadata": {
        "id": "2eUP81pgLeSq"
      }
    },
    {
      "cell_type": "markdown",
      "source": [
        "# Changing Model"
      ],
      "metadata": {
        "id": "YtakZ15aU9Se"
      }
    },
    {
      "cell_type": "markdown",
      "source": [
        "## RandomForest Tuning"
      ],
      "metadata": {
        "id": "AM98nZ46Lpt6"
      }
    },
    {
      "cell_type": "markdown",
      "source": [
        "This model already performed really well, not much tuning is required but I shall change certain parameters to see if it will improve the model."
      ],
      "metadata": {
        "id": "kACXVd5BO9q5"
      }
    },
    {
      "cell_type": "code",
      "source": [
        "rf_pipe.get_params()"
      ],
      "metadata": {
        "colab": {
          "base_uri": "https://localhost:8080/"
        },
        "id": "Fl6VJjwtOm1e",
        "outputId": "99ce0b37-0f38-4724-82c3-f1815979cf0e"
      },
      "execution_count": 28,
      "outputs": [
        {
          "output_type": "execute_result",
          "data": {
            "text/plain": [
              "{'memory': None,\n",
              " 'steps': [('standardscaler', StandardScaler()),\n",
              "  ('randomforestclassifier', RandomForestClassifier(random_state=42))],\n",
              " 'verbose': False,\n",
              " 'standardscaler': StandardScaler(),\n",
              " 'randomforestclassifier': RandomForestClassifier(random_state=42),\n",
              " 'standardscaler__copy': True,\n",
              " 'standardscaler__with_mean': True,\n",
              " 'standardscaler__with_std': True,\n",
              " 'randomforestclassifier__bootstrap': True,\n",
              " 'randomforestclassifier__ccp_alpha': 0.0,\n",
              " 'randomforestclassifier__class_weight': None,\n",
              " 'randomforestclassifier__criterion': 'gini',\n",
              " 'randomforestclassifier__max_depth': None,\n",
              " 'randomforestclassifier__max_features': 'auto',\n",
              " 'randomforestclassifier__max_leaf_nodes': None,\n",
              " 'randomforestclassifier__max_samples': None,\n",
              " 'randomforestclassifier__min_impurity_decrease': 0.0,\n",
              " 'randomforestclassifier__min_samples_leaf': 1,\n",
              " 'randomforestclassifier__min_samples_split': 2,\n",
              " 'randomforestclassifier__min_weight_fraction_leaf': 0.0,\n",
              " 'randomforestclassifier__n_estimators': 100,\n",
              " 'randomforestclassifier__n_jobs': None,\n",
              " 'randomforestclassifier__oob_score': False,\n",
              " 'randomforestclassifier__random_state': 42,\n",
              " 'randomforestclassifier__verbose': 0,\n",
              " 'randomforestclassifier__warm_start': False}"
            ]
          },
          "metadata": {},
          "execution_count": 28
        }
      ]
    },
    {
      "cell_type": "code",
      "source": [
        "# First Attempt\n",
        "param_grid = {'randomforestclassifier__n_estimators': [50, 75, 100, 125, 150],\n",
        "              'randomforestclassifier__max_features': ['auto', 'sqrt', 0.2],\n",
        "              'randomforestclassifier__min_samples_leaf': [1, 10, 100]}\n",
        "\n",
        "rf_params = GridSearchCV(rf_pipe, param_grid)\n",
        "rf_params.fit(X_train, y_train)\n",
        "rf_params.best_params_"
      ],
      "metadata": {
        "colab": {
          "base_uri": "https://localhost:8080/"
        },
        "id": "7k0VePYCOsI5",
        "outputId": "cd75ecee-347c-45e7-8ee1-f477313c4f2e"
      },
      "execution_count": 29,
      "outputs": [
        {
          "output_type": "execute_result",
          "data": {
            "text/plain": [
              "{'randomforestclassifier__max_features': 'auto',\n",
              " 'randomforestclassifier__min_samples_leaf': 1,\n",
              " 'randomforestclassifier__n_estimators': 75}"
            ]
          },
          "metadata": {},
          "execution_count": 29
        }
      ]
    },
    {
      "cell_type": "markdown",
      "source": [
        "I will leave min_sample_leaf as 1"
      ],
      "metadata": {
        "id": "TnPQNJFrTsA4"
      }
    },
    {
      "cell_type": "code",
      "source": [
        "# Second Attempt\n",
        "param_grid = {'randomforestclassifier__n_estimators': [25, 35, 45, 55, 65, 75, 85],\n",
        "              'randomforestclassifier__max_features': ['auto', 'sqrt', 0.2]}\n",
        "\n",
        "rf_params = GridSearchCV(rf_pipe, param_grid)\n",
        "rf_params.fit(X_train, y_train)\n",
        "rf_params.best_params_"
      ],
      "metadata": {
        "colab": {
          "base_uri": "https://localhost:8080/"
        },
        "id": "EUhp_bSPSJ5q",
        "outputId": "4296b8a2-5d8d-4761-a36b-a0054b4075fe"
      },
      "execution_count": 31,
      "outputs": [
        {
          "output_type": "execute_result",
          "data": {
            "text/plain": [
              "{'randomforestclassifier__max_features': 'auto',\n",
              " 'randomforestclassifier__n_estimators': 75}"
            ]
          },
          "metadata": {},
          "execution_count": 31
        }
      ]
    },
    {
      "cell_type": "markdown",
      "source": [
        "I will use these for the final model"
      ],
      "metadata": {
        "id": "JkX6sW6jTlss"
      }
    },
    {
      "cell_type": "markdown",
      "source": [
        "## Final Model"
      ],
      "metadata": {
        "id": "4SJjX7h4WF_v"
      }
    },
    {
      "cell_type": "code",
      "source": [
        "rf_t = RandomForestClassifier(max_features='auto', n_estimators=75, random_state=42)\n",
        "\n",
        "rf_t_pipe = make_pipeline(StandardScaler(), rf_t)"
      ],
      "metadata": {
        "id": "eYs8-ugQT962"
      },
      "execution_count": 32,
      "outputs": []
    },
    {
      "cell_type": "code",
      "source": [
        "%%time\n",
        "# Fit\n",
        "rf_t_pipe.fit(X_train, y_train)"
      ],
      "metadata": {
        "colab": {
          "base_uri": "https://localhost:8080/"
        },
        "id": "E9RgaBdRUMV1",
        "outputId": "ac83ff94-ed50-414f-e2f3-984ca785e19d"
      },
      "execution_count": 33,
      "outputs": [
        {
          "output_type": "stream",
          "name": "stdout",
          "text": [
            "CPU times: user 1.21 s, sys: 10 ms, total: 1.22 s\n",
            "Wall time: 1.23 s\n"
          ]
        },
        {
          "output_type": "execute_result",
          "data": {
            "text/plain": [
              "Pipeline(steps=[('standardscaler', StandardScaler()),\n",
              "                ('randomforestclassifier',\n",
              "                 RandomForestClassifier(n_estimators=75, random_state=42))])"
            ]
          },
          "metadata": {},
          "execution_count": 33
        }
      ]
    },
    {
      "cell_type": "code",
      "source": [
        "%%time\n",
        "# Predict\n",
        "rf_t_train = rf_t_pipe.predict(X_train)\n",
        "rf_t_test = rf_t_pipe.predict(X_test)"
      ],
      "metadata": {
        "colab": {
          "base_uri": "https://localhost:8080/"
        },
        "id": "3i28fnOnUWxh",
        "outputId": "bbfc2f7d-690e-443e-f260-e4126cab3c2b"
      },
      "execution_count": 34,
      "outputs": [
        {
          "output_type": "stream",
          "name": "stdout",
          "text": [
            "CPU times: user 205 ms, sys: 3 ms, total: 208 ms\n",
            "Wall time: 217 ms\n"
          ]
        }
      ]
    },
    {
      "cell_type": "code",
      "source": [
        "eval(rf_t_pipe, X_train, y_train, rf_t_train, 'Train Data')\n",
        "eval(rf_t_pipe, X_test, y_test, rf_t_test, 'Test Data')"
      ],
      "metadata": {
        "colab": {
          "base_uri": "https://localhost:8080/",
          "height": 1000
        },
        "id": "YQf_S5vGUf8e",
        "outputId": "79063a4f-8f3d-4611-c78a-9846117ffc67"
      },
      "execution_count": 35,
      "outputs": [
        {
          "output_type": "stream",
          "name": "stdout",
          "text": [
            "++--------------------------++\n",
            "Classification Report: Train Data\n",
            "++--------------------------++\n",
            "\n",
            "              precision    recall  f1-score   support\n",
            "\n",
            "  Legitimate       1.00      1.00      1.00      4237\n",
            "    Phishing       1.00      1.00      1.00      4205\n",
            "\n",
            "    accuracy                           1.00      8442\n",
            "   macro avg       1.00      1.00      1.00      8442\n",
            "weighted avg       1.00      1.00      1.00      8442\n",
            "\n"
          ]
        },
        {
          "output_type": "display_data",
          "data": {
            "text/plain": [
              "<Figure size 720x360 with 3 Axes>"
            ],
            "image/png": "[encoded data removed]"
          },
          "metadata": {
            "needs_background": "light"
          }
        },
        {
          "output_type": "stream",
          "name": "stdout",
          "text": [
            "++--------------------------++\n",
            "Classification Report: Test Data\n",
            "++--------------------------++\n",
            "\n",
            "              precision    recall  f1-score   support\n",
            "\n",
            "  Legitimate       0.97      0.96      0.96      1478\n",
            "    Phishing       0.95      0.96      0.96      1336\n",
            "\n",
            "    accuracy                           0.96      2814\n",
            "   macro avg       0.96      0.96      0.96      2814\n",
            "weighted avg       0.96      0.96      0.96      2814\n",
            "\n"
          ]
        },
        {
          "output_type": "display_data",
          "data": {
            "text/plain": [
              "<Figure size 720x360 with 3 Axes>"
            ],
            "image/png": "[encoded data removed]"
          },
          "metadata": {
            "needs_background": "light"
          }
        }
      ]
    },
    {
      "cell_type": "markdown",
      "source": [
        "Very small changes, only visible in the number of false positives that increased from 0.037 to 0.041 and the number of false negatives also increased from 0.037 to 0.038.\n",
        "\n",
        "With the changes, the fit time decreased from 2.28 seconds total to 1.22 seconds total. The prediction time also decreased with the changes from 372 milliseconds total, to 208 milliseconds total.\n",
        "\n",
        "Considering how small the increase in false negatives and false positives is, due to the faster fit and prediction times the tuned model overall performed better.\n",
        "\n",
        "I recommend the tuned RandomForest model as my final model that best works with this data set to predict whether a url is legitimate or phishing."
      ],
      "metadata": {
        "id": "MAu3YGlsU5Bh"
      }
    },
    {
      "cell_type": "markdown",
      "source": [
        "# Changing Data"
      ],
      "metadata": {
        "id": "HxGxzTdpLo5Y"
      }
    },
    {
      "cell_type": "markdown",
      "source": [
        "Seeing how tuning the model decreased the fit and predict times with extremely minimal downside of an increase in false negatives/positives of about ~0.003, I will now attempt changing the data itself to see if I can reduce the time even further and possibly increase prediction results."
      ],
      "metadata": {
        "id": "vfs18hGiTZQ6"
      }
    },
    {
      "cell_type": "markdown",
      "source": [
        "## PCA"
      ],
      "metadata": {
        "id": "hY3gu54nLqbC"
      }
    },
    {
      "cell_type": "code",
      "source": [
        "from sklearn.decomposition import PCA"
      ],
      "metadata": {
        "id": "dwap569rUDug"
      },
      "execution_count": 49,
      "outputs": []
    },
    {
      "cell_type": "code",
      "source": [
        "# I will try two version of PCA to see which one works better\n",
        "# 95% explained variance\n",
        "pca95 = PCA(n_components=0.95)\n",
        "# 90 explained variance\n",
        "pca90 = PCA(n_components=0.90)"
      ],
      "metadata": {
        "id": "ZR8mmf0TU0wG"
      },
      "execution_count": 50,
      "outputs": []
    },
    {
      "cell_type": "code",
      "source": [
        "# PCA Pipes\n",
        "pca95_p = make_pipeline(StandardScaler(), pca95)\n",
        "pca90_p = make_pipeline(StandardScaler(), pca90)"
      ],
      "metadata": {
        "id": "JvYE4u_rVA79"
      },
      "execution_count": 60,
      "outputs": []
    },
    {
      "cell_type": "code",
      "source": [
        "# Transforming Data\n",
        "train_pca90 = pca90_p.fit_transform(X_train)\n",
        "test_pca90 = pca90_p.transform(X_test)\n",
        "\n",
        "train_pca95 = pca95_p.fit_transform(X_train)\n",
        "test_pca95 = pca95_p.transform(X_test)"
      ],
      "metadata": {
        "id": "gfUeGE77YpOT"
      },
      "execution_count": 77,
      "outputs": []
    },
    {
      "cell_type": "markdown",
      "source": [
        "Check the shape to see how PCA reduced the features."
      ],
      "metadata": {
        "id": "r8Rorp0kb8gl"
      }
    },
    {
      "cell_type": "code",
      "source": [
        "X_train.shape"
      ],
      "metadata": {
        "colab": {
          "base_uri": "https://localhost:8080/"
        },
        "id": "j5r37xfnbypY",
        "outputId": "5d70e3a0-660e-4aa5-fca2-f7a82158c922"
      },
      "execution_count": 90,
      "outputs": [
        {
          "output_type": "execute_result",
          "data": {
            "text/plain": [
              "(8442, 87)"
            ]
          },
          "metadata": {},
          "execution_count": 90
        }
      ]
    },
    {
      "cell_type": "code",
      "source": [
        "train_pca95.shape"
      ],
      "metadata": {
        "colab": {
          "base_uri": "https://localhost:8080/"
        },
        "id": "yjYDcFzlb2X5",
        "outputId": "43bf426e-ccd5-448b-d49a-294c6dae1ead"
      },
      "execution_count": 91,
      "outputs": [
        {
          "output_type": "execute_result",
          "data": {
            "text/plain": [
              "(8442, 60)"
            ]
          },
          "metadata": {},
          "execution_count": 91
        }
      ]
    },
    {
      "cell_type": "code",
      "source": [
        "train_pca90.shape"
      ],
      "metadata": {
        "colab": {
          "base_uri": "https://localhost:8080/"
        },
        "id": "1_fcHzvzb4_D",
        "outputId": "783008c0-ed5f-4b3c-dac6-ad5e2c09399c"
      },
      "execution_count": 92,
      "outputs": [
        {
          "output_type": "execute_result",
          "data": {
            "text/plain": [
              "(8442, 52)"
            ]
          },
          "metadata": {},
          "execution_count": 92
        }
      ]
    },
    {
      "cell_type": "markdown",
      "source": [
        "### PCA at 95% Explained Variance"
      ],
      "metadata": {
        "id": "EEZAy4WZX4Rj"
      }
    },
    {
      "cell_type": "code",
      "source": [
        "%%time\n",
        "# Fit\n",
        "rf_t.fit(train_pca95, y_train)"
      ],
      "metadata": {
        "colab": {
          "base_uri": "https://localhost:8080/"
        },
        "id": "Wf_WtkHGVvNo",
        "outputId": "91217357-255f-4bc2-f555-adfe71feb457"
      },
      "execution_count": 96,
      "outputs": [
        {
          "output_type": "stream",
          "name": "stdout",
          "text": [
            "CPU times: user 4.87 s, sys: 10.3 ms, total: 4.88 s\n",
            "Wall time: 4.9 s\n"
          ]
        },
        {
          "output_type": "execute_result",
          "data": {
            "text/plain": [
              "RandomForestClassifier(n_estimators=75, random_state=42)"
            ]
          },
          "metadata": {},
          "execution_count": 96
        }
      ]
    },
    {
      "cell_type": "code",
      "source": [
        "%%time\n",
        "# Predict\n",
        "pca95_train_pred = rf_t.predict(train_pca95)\n",
        "pca95_test_pred = rf_t.predict(test_pca95)"
      ],
      "metadata": {
        "colab": {
          "base_uri": "https://localhost:8080/"
        },
        "id": "AQM2BKUTWcS3",
        "outputId": "80d35a78-794d-473f-b2ba-59b6804b09ee"
      },
      "execution_count": 97,
      "outputs": [
        {
          "output_type": "stream",
          "name": "stdout",
          "text": [
            "CPU times: user 228 ms, sys: 1.03 ms, total: 229 ms\n",
            "Wall time: 231 ms\n"
          ]
        }
      ]
    },
    {
      "cell_type": "code",
      "source": [
        "eval(rf_t, train_pca95, y_train, pca95_train_pred, 'Train Data')\n",
        "eval(rf_t, test_pca95, y_test, pca95_test_pred, 'Test Data')"
      ],
      "metadata": {
        "colab": {
          "base_uri": "https://localhost:8080/",
          "height": 1000
        },
        "id": "byXojHDHXdmz",
        "outputId": "8639bea8-4b92-45f3-8378-55f49b1e33b9"
      },
      "execution_count": 98,
      "outputs": [
        {
          "output_type": "stream",
          "name": "stdout",
          "text": [
            "++--------------------------++\n",
            "Classification Report: Train Data\n",
            "++--------------------------++\n",
            "\n",
            "              precision    recall  f1-score   support\n",
            "\n",
            "  Legitimate       1.00      1.00      1.00      4237\n",
            "    Phishing       1.00      1.00      1.00      4205\n",
            "\n",
            "    accuracy                           1.00      8442\n",
            "   macro avg       1.00      1.00      1.00      8442\n",
            "weighted avg       1.00      1.00      1.00      8442\n",
            "\n"
          ]
        },
        {
          "output_type": "display_data",
          "data": {
            "text/plain": [
              "<Figure size 720x360 with 3 Axes>"
            ],
            "image/png": "[encoded data removed]"
          },
          "metadata": {
            "needs_background": "light"
          }
        },
        {
          "output_type": "stream",
          "name": "stdout",
          "text": [
            "++--------------------------++\n",
            "Classification Report: Test Data\n",
            "++--------------------------++\n",
            "\n",
            "              precision    recall  f1-score   support\n",
            "\n",
            "  Legitimate       0.96      0.94      0.95      1478\n",
            "    Phishing       0.93      0.95      0.94      1336\n",
            "\n",
            "    accuracy                           0.94      2814\n",
            "   macro avg       0.94      0.95      0.94      2814\n",
            "weighted avg       0.95      0.94      0.94      2814\n",
            "\n"
          ]
        },
        {
          "output_type": "display_data",
          "data": {
            "text/plain": [
              "<Figure size 720x360 with 3 Axes>"
            ],
            "image/png": "[encoded data removed]"
          },
          "metadata": {
            "needs_background": "light"
          }
        }
      ]
    },
    {
      "cell_type": "markdown",
      "source": [
        "### PCA at 90% Explained Variance"
      ],
      "metadata": {
        "id": "Gbq4Lfg4X9tL"
      }
    },
    {
      "cell_type": "code",
      "source": [
        "%%time\n",
        "# Fit\n",
        "rf_t.fit(train_pca90, y_train)"
      ],
      "metadata": {
        "colab": {
          "base_uri": "https://localhost:8080/"
        },
        "id": "4r6OxbuLWM8n",
        "outputId": "736a6bfa-af6b-432e-dd4c-5d6aad975533"
      },
      "execution_count": 99,
      "outputs": [
        {
          "output_type": "stream",
          "name": "stdout",
          "text": [
            "CPU times: user 4.85 s, sys: 11.5 ms, total: 4.86 s\n",
            "Wall time: 4.88 s\n"
          ]
        },
        {
          "output_type": "execute_result",
          "data": {
            "text/plain": [
              "RandomForestClassifier(n_estimators=75, random_state=42)"
            ]
          },
          "metadata": {},
          "execution_count": 99
        }
      ]
    },
    {
      "cell_type": "code",
      "source": [
        "%%time\n",
        "# Predict\n",
        "pca90_test_pred = rf_t.predict(test_pca90)\n",
        "pca90_train_pred = rf_t.predict(train_pca90)"
      ],
      "metadata": {
        "colab": {
          "base_uri": "https://localhost:8080/"
        },
        "id": "YWvoDpjzWPzW",
        "outputId": "7227e0b1-1884-4c0f-ff63-e8bd29c5c3b6"
      },
      "execution_count": 100,
      "outputs": [
        {
          "output_type": "stream",
          "name": "stdout",
          "text": [
            "CPU times: user 229 ms, sys: 1 ms, total: 230 ms\n",
            "Wall time: 233 ms\n"
          ]
        }
      ]
    },
    {
      "cell_type": "code",
      "source": [
        "eval(rf_t, train_pca90, y_train, pca90_train_pred, 'Train Data')\n",
        "eval(rf_t, test_pca90, y_test, pca90_test_pred, 'Test Data')"
      ],
      "metadata": {
        "colab": {
          "base_uri": "https://localhost:8080/",
          "height": 1000
        },
        "id": "M_xg9qDEXPrJ",
        "outputId": "88b29d61-606f-4706-a918-59e7ce382bbf"
      },
      "execution_count": 101,
      "outputs": [
        {
          "output_type": "stream",
          "name": "stdout",
          "text": [
            "++--------------------------++\n",
            "Classification Report: Train Data\n",
            "++--------------------------++\n",
            "\n",
            "              precision    recall  f1-score   support\n",
            "\n",
            "  Legitimate       1.00      1.00      1.00      4237\n",
            "    Phishing       1.00      1.00      1.00      4205\n",
            "\n",
            "    accuracy                           1.00      8442\n",
            "   macro avg       1.00      1.00      1.00      8442\n",
            "weighted avg       1.00      1.00      1.00      8442\n",
            "\n"
          ]
        },
        {
          "output_type": "display_data",
          "data": {
            "text/plain": [
              "<Figure size 720x360 with 3 Axes>"
            ],
            "image/png": "[encoded data removed]"
          },
          "metadata": {
            "needs_background": "light"
          }
        },
        {
          "output_type": "stream",
          "name": "stdout",
          "text": [
            "++--------------------------++\n",
            "Classification Report: Test Data\n",
            "++--------------------------++\n",
            "\n",
            "              precision    recall  f1-score   support\n",
            "\n",
            "  Legitimate       0.95      0.94      0.95      1478\n",
            "    Phishing       0.93      0.95      0.94      1336\n",
            "\n",
            "    accuracy                           0.94      2814\n",
            "   macro avg       0.94      0.94      0.94      2814\n",
            "weighted avg       0.94      0.94      0.94      2814\n",
            "\n"
          ]
        },
        {
          "output_type": "display_data",
          "data": {
            "text/plain": [
              "<Figure size 720x360 with 3 Axes>"
            ],
            "image/png": "[encoded data removed]"
          },
          "metadata": {
            "needs_background": "light"
          }
        }
      ]
    },
    {
      "cell_type": "markdown",
      "source": [
        "## Conclusion"
      ],
      "metadata": {
        "id": "llwZFeaNXtnb"
      }
    },
    {
      "cell_type": "markdown",
      "source": [
        "PCA at 95% Explained Variance\n",
        "___\n",
        "Fit time: 4.88 seconds total\n",
        "\n",
        "Predict time: 229 milliseconds total\n",
        "\n",
        "On the training data we get the same results of a perfect score on all metrics.\n",
        "\n",
        "On the test data the overall accuracy fell from 96% to 94%, the model with PCA us worse at prediction. The RocCurve is the same but the ConfusionMatrix shows that the true positives and true negatives fell from 96% for both to 94% true negatives and 95% true positives. Not using PCA is better for more accurate predictions. Not even the times are better as this was the metric PCA should have improved the most but did not."
      ],
      "metadata": {
        "id": "-tCT6cObXvK8"
      }
    },
    {
      "cell_type": "markdown",
      "source": [
        "PCA at 90% Explained Variance\n",
        "___\n",
        "Fit time: 4.86 seconds total\n",
        "\n",
        "Predict time: 230 milliseconds total\n",
        "\n",
        "On the training data, we get the same results as the original data.\n",
        "\n",
        "On the test data, we see identical metrics as PCA at 95% variance, the PCA method was not useful in improving our model for this data."
      ],
      "metadata": {
        "id": "rkUC1oGwYCcr"
      }
    },
    {
      "cell_type": "markdown",
      "source": [
        "I recommend using the final tuned RandomForest model without PCA for best results"
      ],
      "metadata": {
        "id": "EX2YQ5HwekKL"
      }
    }
  ]
}